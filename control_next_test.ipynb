{
  "nbformat": 4,
  "nbformat_minor": 0,
  "metadata": {
    "colab": {
      "provenance": [],
      "gpuType": "T4"
    },
    "kernelspec": {
      "name": "python3",
      "display_name": "Python 3"
    },
    "language_info": {
      "name": "python"
    },
    "accelerator": "GPU"
  },
  "cells": [
    {
      "cell_type": "code",
      "source": [
        "!git clone https://huggingface.co/Pbihao/ControlNeXt"
      ],
      "metadata": {
        "colab": {
          "base_uri": "https://localhost:8080/"
        },
        "id": "ZOnJNVIXwOwY",
        "outputId": "89ae08c2-7e09-4e78-eac1-e50199092f94"
      },
      "execution_count": 1,
      "outputs": [
        {
          "output_type": "stream",
          "name": "stdout",
          "text": [
            "Cloning into 'ControlNeXt'...\n",
            "remote: Enumerating objects: 80, done.\u001b[K\n",
            "remote: Counting objects: 100% (77/77), done.\u001b[K\n",
            "remote: Compressing objects: 100% (71/71), done.\u001b[K\n",
            "remote: Total 80 (delta 13), reused 0 (delta 0), pack-reused 3 (from 1)\u001b[K\n",
            "Unpacking objects: 100% (80/80), 18.78 KiB | 835.00 KiB/s, done.\n",
            "Filtering content: 100% (18/18), 8.13 GiB | 34.65 MiB/s, done.\n",
            "Encountered 1 file(s) that may not have been copied correctly on Windows:\n",
            "\tControlNeXt-SVD/v2/unet.bin\n",
            "\n",
            "See: `git lfs help smudge` for more details.\n"
          ]
        }
      ]
    },
    {
      "cell_type": "code",
      "execution_count": 3,
      "metadata": {
        "colab": {
          "base_uri": "https://localhost:8080/"
        },
        "id": "9RCmhw3JQYY2",
        "outputId": "6777af61-7e1b-4618-dd7c-d297c888213d"
      },
      "outputs": [
        {
          "output_type": "stream",
          "name": "stdout",
          "text": [
            "Cloning into 'ControlNeXt'...\n",
            "remote: Enumerating objects: 488, done.\u001b[K\n",
            "remote: Counting objects: 100% (180/180), done.\u001b[K\n",
            "remote: Compressing objects: 100% (148/148), done.\u001b[K\n",
            "remote: Total 488 (delta 68), reused 121 (delta 30), pack-reused 308 (from 1)\u001b[K\n",
            "Receiving objects: 100% (488/488), 35.03 MiB | 15.35 MiB/s, done.\n",
            "Resolving deltas: 100% (186/186), done.\n"
          ]
        }
      ],
      "source": [
        "!git clone https://github.com/gokayfem/ControlNeXt.git\n"
      ]
    },
    {
      "cell_type": "code",
      "source": [
        "%cd /content/ControlNeXt/ControlNeXt-SD1.5\n",
        "\n"
      ],
      "metadata": {
        "colab": {
          "base_uri": "https://localhost:8080/"
        },
        "id": "0pDeZAL5RAuo",
        "outputId": "6f72cc21-c0a5-4fcd-e5eb-688be515c1cf"
      },
      "execution_count": 4,
      "outputs": [
        {
          "output_type": "stream",
          "name": "stdout",
          "text": [
            "/content/ControlNeXt/ControlNeXt-SD1.5\n"
          ]
        }
      ]
    },
    {
      "cell_type": "code",
      "source": [
        "!pip install -r /content/ControlNeXt/requirements.txt"
      ],
      "metadata": {
        "colab": {
          "base_uri": "https://localhost:8080/"
        },
        "id": "4NxqSD8SRBdC",
        "outputId": "f1701c16-662a-42f9-96b5-0a9bd84128db"
      },
      "execution_count": 5,
      "outputs": [
        {
          "output_type": "stream",
          "name": "stdout",
          "text": [
            "Requirement already satisfied: torch in /usr/local/lib/python3.10/dist-packages (from -r /content/ControlNeXt/requirements.txt (line 1)) (2.3.1+cu121)\n",
            "Requirement already satisfied: moviepy in /usr/local/lib/python3.10/dist-packages (from -r /content/ControlNeXt/requirements.txt (line 2)) (1.0.3)\n",
            "Requirement already satisfied: opencv-python in /usr/local/lib/python3.10/dist-packages (from -r /content/ControlNeXt/requirements.txt (line 3)) (4.10.0.84)\n",
            "Requirement already satisfied: pillow in /usr/local/lib/python3.10/dist-packages (from -r /content/ControlNeXt/requirements.txt (line 4)) (9.4.0)\n",
            "Requirement already satisfied: numpy in /usr/local/lib/python3.10/dist-packages (from -r /content/ControlNeXt/requirements.txt (line 5)) (1.26.4)\n",
            "Requirement already satisfied: transformers in /usr/local/lib/python3.10/dist-packages (from -r /content/ControlNeXt/requirements.txt (line 6)) (4.42.4)\n",
            "Collecting diffusers (from -r /content/ControlNeXt/requirements.txt (line 7))\n",
            "  Downloading diffusers-0.30.0-py3-none-any.whl.metadata (18 kB)\n",
            "Requirement already satisfied: safetensors in /usr/local/lib/python3.10/dist-packages (from -r /content/ControlNeXt/requirements.txt (line 8)) (0.4.4)\n",
            "Collecting peft (from -r /content/ControlNeXt/requirements.txt (line 9))\n",
            "  Downloading peft-0.12.0-py3-none-any.whl.metadata (13 kB)\n",
            "Collecting decord (from -r /content/ControlNeXt/requirements.txt (line 10))\n",
            "  Downloading decord-0.6.0-py3-none-manylinux2010_x86_64.whl.metadata (422 bytes)\n",
            "Requirement already satisfied: filelock in /usr/local/lib/python3.10/dist-packages (from torch->-r /content/ControlNeXt/requirements.txt (line 1)) (3.15.4)\n",
            "Requirement already satisfied: typing-extensions>=4.8.0 in /usr/local/lib/python3.10/dist-packages (from torch->-r /content/ControlNeXt/requirements.txt (line 1)) (4.12.2)\n",
            "Requirement already satisfied: sympy in /usr/local/lib/python3.10/dist-packages (from torch->-r /content/ControlNeXt/requirements.txt (line 1)) (1.13.2)\n",
            "Requirement already satisfied: networkx in /usr/local/lib/python3.10/dist-packages (from torch->-r /content/ControlNeXt/requirements.txt (line 1)) (3.3)\n",
            "Requirement already satisfied: jinja2 in /usr/local/lib/python3.10/dist-packages (from torch->-r /content/ControlNeXt/requirements.txt (line 1)) (3.1.4)\n",
            "Requirement already satisfied: fsspec in /usr/local/lib/python3.10/dist-packages (from torch->-r /content/ControlNeXt/requirements.txt (line 1)) (2024.6.1)\n",
            "Collecting nvidia-cuda-nvrtc-cu12==12.1.105 (from torch->-r /content/ControlNeXt/requirements.txt (line 1))\n",
            "  Using cached nvidia_cuda_nvrtc_cu12-12.1.105-py3-none-manylinux1_x86_64.whl.metadata (1.5 kB)\n",
            "Collecting nvidia-cuda-runtime-cu12==12.1.105 (from torch->-r /content/ControlNeXt/requirements.txt (line 1))\n",
            "  Using cached nvidia_cuda_runtime_cu12-12.1.105-py3-none-manylinux1_x86_64.whl.metadata (1.5 kB)\n",
            "Collecting nvidia-cuda-cupti-cu12==12.1.105 (from torch->-r /content/ControlNeXt/requirements.txt (line 1))\n",
            "  Using cached nvidia_cuda_cupti_cu12-12.1.105-py3-none-manylinux1_x86_64.whl.metadata (1.6 kB)\n",
            "Collecting nvidia-cudnn-cu12==8.9.2.26 (from torch->-r /content/ControlNeXt/requirements.txt (line 1))\n",
            "  Using cached nvidia_cudnn_cu12-8.9.2.26-py3-none-manylinux1_x86_64.whl.metadata (1.6 kB)\n",
            "Collecting nvidia-cublas-cu12==12.1.3.1 (from torch->-r /content/ControlNeXt/requirements.txt (line 1))\n",
            "  Using cached nvidia_cublas_cu12-12.1.3.1-py3-none-manylinux1_x86_64.whl.metadata (1.5 kB)\n",
            "Collecting nvidia-cufft-cu12==11.0.2.54 (from torch->-r /content/ControlNeXt/requirements.txt (line 1))\n",
            "  Using cached nvidia_cufft_cu12-11.0.2.54-py3-none-manylinux1_x86_64.whl.metadata (1.5 kB)\n",
            "Collecting nvidia-curand-cu12==10.3.2.106 (from torch->-r /content/ControlNeXt/requirements.txt (line 1))\n",
            "  Using cached nvidia_curand_cu12-10.3.2.106-py3-none-manylinux1_x86_64.whl.metadata (1.5 kB)\n",
            "Collecting nvidia-cusolver-cu12==11.4.5.107 (from torch->-r /content/ControlNeXt/requirements.txt (line 1))\n",
            "  Using cached nvidia_cusolver_cu12-11.4.5.107-py3-none-manylinux1_x86_64.whl.metadata (1.6 kB)\n",
            "Collecting nvidia-cusparse-cu12==12.1.0.106 (from torch->-r /content/ControlNeXt/requirements.txt (line 1))\n",
            "  Using cached nvidia_cusparse_cu12-12.1.0.106-py3-none-manylinux1_x86_64.whl.metadata (1.6 kB)\n",
            "Collecting nvidia-nccl-cu12==2.20.5 (from torch->-r /content/ControlNeXt/requirements.txt (line 1))\n",
            "  Using cached nvidia_nccl_cu12-2.20.5-py3-none-manylinux2014_x86_64.whl.metadata (1.8 kB)\n",
            "Collecting nvidia-nvtx-cu12==12.1.105 (from torch->-r /content/ControlNeXt/requirements.txt (line 1))\n",
            "  Using cached nvidia_nvtx_cu12-12.1.105-py3-none-manylinux1_x86_64.whl.metadata (1.7 kB)\n",
            "Requirement already satisfied: triton==2.3.1 in /usr/local/lib/python3.10/dist-packages (from torch->-r /content/ControlNeXt/requirements.txt (line 1)) (2.3.1)\n",
            "Collecting nvidia-nvjitlink-cu12 (from nvidia-cusolver-cu12==11.4.5.107->torch->-r /content/ControlNeXt/requirements.txt (line 1))\n",
            "  Using cached nvidia_nvjitlink_cu12-12.6.20-py3-none-manylinux2014_x86_64.whl.metadata (1.5 kB)\n",
            "Requirement already satisfied: decorator<5.0,>=4.0.2 in /usr/local/lib/python3.10/dist-packages (from moviepy->-r /content/ControlNeXt/requirements.txt (line 2)) (4.4.2)\n",
            "Requirement already satisfied: tqdm<5.0,>=4.11.2 in /usr/local/lib/python3.10/dist-packages (from moviepy->-r /content/ControlNeXt/requirements.txt (line 2)) (4.66.5)\n",
            "Requirement already satisfied: requests<3.0,>=2.8.1 in /usr/local/lib/python3.10/dist-packages (from moviepy->-r /content/ControlNeXt/requirements.txt (line 2)) (2.32.3)\n",
            "Requirement already satisfied: proglog<=1.0.0 in /usr/local/lib/python3.10/dist-packages (from moviepy->-r /content/ControlNeXt/requirements.txt (line 2)) (0.1.10)\n",
            "Requirement already satisfied: imageio<3.0,>=2.5 in /usr/local/lib/python3.10/dist-packages (from moviepy->-r /content/ControlNeXt/requirements.txt (line 2)) (2.34.2)\n",
            "Requirement already satisfied: imageio-ffmpeg>=0.2.0 in /usr/local/lib/python3.10/dist-packages (from moviepy->-r /content/ControlNeXt/requirements.txt (line 2)) (0.5.1)\n",
            "Requirement already satisfied: huggingface-hub<1.0,>=0.23.2 in /usr/local/lib/python3.10/dist-packages (from transformers->-r /content/ControlNeXt/requirements.txt (line 6)) (0.23.5)\n",
            "Requirement already satisfied: packaging>=20.0 in /usr/local/lib/python3.10/dist-packages (from transformers->-r /content/ControlNeXt/requirements.txt (line 6)) (24.1)\n",
            "Requirement already satisfied: pyyaml>=5.1 in /usr/local/lib/python3.10/dist-packages (from transformers->-r /content/ControlNeXt/requirements.txt (line 6)) (6.0.2)\n",
            "Requirement already satisfied: regex!=2019.12.17 in /usr/local/lib/python3.10/dist-packages (from transformers->-r /content/ControlNeXt/requirements.txt (line 6)) (2024.5.15)\n",
            "Requirement already satisfied: tokenizers<0.20,>=0.19 in /usr/local/lib/python3.10/dist-packages (from transformers->-r /content/ControlNeXt/requirements.txt (line 6)) (0.19.1)\n",
            "Requirement already satisfied: importlib-metadata in /usr/local/lib/python3.10/dist-packages (from diffusers->-r /content/ControlNeXt/requirements.txt (line 7)) (8.4.0)\n",
            "Requirement already satisfied: psutil in /usr/local/lib/python3.10/dist-packages (from peft->-r /content/ControlNeXt/requirements.txt (line 9)) (5.9.5)\n",
            "Requirement already satisfied: accelerate>=0.21.0 in /usr/local/lib/python3.10/dist-packages (from peft->-r /content/ControlNeXt/requirements.txt (line 9)) (0.32.1)\n",
            "Requirement already satisfied: setuptools in /usr/local/lib/python3.10/dist-packages (from imageio-ffmpeg>=0.2.0->moviepy->-r /content/ControlNeXt/requirements.txt (line 2)) (71.0.4)\n",
            "Requirement already satisfied: charset-normalizer<4,>=2 in /usr/local/lib/python3.10/dist-packages (from requests<3.0,>=2.8.1->moviepy->-r /content/ControlNeXt/requirements.txt (line 2)) (3.3.2)\n",
            "Requirement already satisfied: idna<4,>=2.5 in /usr/local/lib/python3.10/dist-packages (from requests<3.0,>=2.8.1->moviepy->-r /content/ControlNeXt/requirements.txt (line 2)) (3.7)\n",
            "Requirement already satisfied: urllib3<3,>=1.21.1 in /usr/local/lib/python3.10/dist-packages (from requests<3.0,>=2.8.1->moviepy->-r /content/ControlNeXt/requirements.txt (line 2)) (2.0.7)\n",
            "Requirement already satisfied: certifi>=2017.4.17 in /usr/local/lib/python3.10/dist-packages (from requests<3.0,>=2.8.1->moviepy->-r /content/ControlNeXt/requirements.txt (line 2)) (2024.7.4)\n",
            "Requirement already satisfied: zipp>=0.5 in /usr/local/lib/python3.10/dist-packages (from importlib-metadata->diffusers->-r /content/ControlNeXt/requirements.txt (line 7)) (3.20.0)\n",
            "Requirement already satisfied: MarkupSafe>=2.0 in /usr/local/lib/python3.10/dist-packages (from jinja2->torch->-r /content/ControlNeXt/requirements.txt (line 1)) (2.1.5)\n",
            "Requirement already satisfied: mpmath<1.4,>=1.1.0 in /usr/local/lib/python3.10/dist-packages (from sympy->torch->-r /content/ControlNeXt/requirements.txt (line 1)) (1.3.0)\n",
            "Using cached nvidia_cublas_cu12-12.1.3.1-py3-none-manylinux1_x86_64.whl (410.6 MB)\n",
            "Using cached nvidia_cuda_cupti_cu12-12.1.105-py3-none-manylinux1_x86_64.whl (14.1 MB)\n",
            "Using cached nvidia_cuda_nvrtc_cu12-12.1.105-py3-none-manylinux1_x86_64.whl (23.7 MB)\n",
            "Using cached nvidia_cuda_runtime_cu12-12.1.105-py3-none-manylinux1_x86_64.whl (823 kB)\n",
            "Using cached nvidia_cudnn_cu12-8.9.2.26-py3-none-manylinux1_x86_64.whl (731.7 MB)\n",
            "Using cached nvidia_cufft_cu12-11.0.2.54-py3-none-manylinux1_x86_64.whl (121.6 MB)\n",
            "Using cached nvidia_curand_cu12-10.3.2.106-py3-none-manylinux1_x86_64.whl (56.5 MB)\n",
            "Using cached nvidia_cusolver_cu12-11.4.5.107-py3-none-manylinux1_x86_64.whl (124.2 MB)\n",
            "Using cached nvidia_cusparse_cu12-12.1.0.106-py3-none-manylinux1_x86_64.whl (196.0 MB)\n",
            "Using cached nvidia_nccl_cu12-2.20.5-py3-none-manylinux2014_x86_64.whl (176.2 MB)\n",
            "Using cached nvidia_nvtx_cu12-12.1.105-py3-none-manylinux1_x86_64.whl (99 kB)\n",
            "Downloading diffusers-0.30.0-py3-none-any.whl (2.6 MB)\n",
            "\u001b[2K   \u001b[90m━━━━━━━━━━━━━━━━━━━━━━━━━━━━━━━━━━━━━━━━\u001b[0m \u001b[32m2.6/2.6 MB\u001b[0m \u001b[31m13.5 MB/s\u001b[0m eta \u001b[36m0:00:00\u001b[0m\n",
            "\u001b[?25hDownloading peft-0.12.0-py3-none-any.whl (296 kB)\n",
            "\u001b[2K   \u001b[90m━━━━━━━━━━━━━━━━━━━━━━━━━━━━━━━━━━━━━━━━\u001b[0m \u001b[32m296.4/296.4 kB\u001b[0m \u001b[31m26.4 MB/s\u001b[0m eta \u001b[36m0:00:00\u001b[0m\n",
            "\u001b[?25hDownloading decord-0.6.0-py3-none-manylinux2010_x86_64.whl (13.6 MB)\n",
            "\u001b[2K   \u001b[90m━━━━━━━━━━━━━━━━━━━━━━━━━━━━━━━━━━━━━━━━\u001b[0m \u001b[32m13.6/13.6 MB\u001b[0m \u001b[31m82.9 MB/s\u001b[0m eta \u001b[36m0:00:00\u001b[0m\n",
            "\u001b[?25hUsing cached nvidia_nvjitlink_cu12-12.6.20-py3-none-manylinux2014_x86_64.whl (19.7 MB)\n",
            "Installing collected packages: nvidia-nvtx-cu12, nvidia-nvjitlink-cu12, nvidia-nccl-cu12, nvidia-curand-cu12, nvidia-cufft-cu12, nvidia-cuda-runtime-cu12, nvidia-cuda-nvrtc-cu12, nvidia-cuda-cupti-cu12, nvidia-cublas-cu12, decord, nvidia-cusparse-cu12, nvidia-cudnn-cu12, nvidia-cusolver-cu12, diffusers, peft\n",
            "Successfully installed decord-0.6.0 diffusers-0.30.0 nvidia-cublas-cu12-12.1.3.1 nvidia-cuda-cupti-cu12-12.1.105 nvidia-cuda-nvrtc-cu12-12.1.105 nvidia-cuda-runtime-cu12-12.1.105 nvidia-cudnn-cu12-8.9.2.26 nvidia-cufft-cu12-11.0.2.54 nvidia-curand-cu12-10.3.2.106 nvidia-cusolver-cu12-11.4.5.107 nvidia-cusparse-cu12-12.1.0.106 nvidia-nccl-cu12-2.20.5 nvidia-nvjitlink-cu12-12.6.20 nvidia-nvtx-cu12-12.1.105 peft-0.12.0\n"
          ]
        }
      ]
    },
    {
      "cell_type": "code",
      "source": [
        "!mkdir -p pretrained\n",
        "!wget -P pretrained/ https://link-to-deepfashion_multiview-weight\n",
        "!wget -P pretrained/ https://link-to-deepfashion_caption-weight"
      ],
      "metadata": {
        "colab": {
          "base_uri": "https://localhost:8080/"
        },
        "id": "k--iYnFCRYeD",
        "outputId": "2911c111-4feb-4948-c78a-da29807409db"
      },
      "execution_count": null,
      "outputs": [
        {
          "output_type": "stream",
          "name": "stdout",
          "text": [
            "--2024-08-23 08:08:08--  https://link-to-deepfashion_multiview-weight/\n",
            "Resolving link-to-deepfashion_multiview-weight (link-to-deepfashion_multiview-weight)... failed: Name or service not known.\n",
            "wget: unable to resolve host address ‘link-to-deepfashion_multiview-weight’\n",
            "--2024-08-23 08:08:08--  https://link-to-deepfashion_caption-weight/\n",
            "Resolving link-to-deepfashion_caption-weight (link-to-deepfashion_caption-weight)... failed: Name or service not known.\n",
            "wget: unable to resolve host address ‘link-to-deepfashion_caption-weight’\n"
          ]
        }
      ]
    },
    {
      "cell_type": "code",
      "source": [
        "!mkdir -p lora\n",
        "!wget -P lora/ https://civitai.com/models/362091?modelVersionId=412128"
      ],
      "metadata": {
        "colab": {
          "base_uri": "https://localhost:8080/"
        },
        "id": "WcfYS5jrRsze",
        "outputId": "77fc5eb9-12d8-41b8-eecd-7741690c1ecf"
      },
      "execution_count": 6,
      "outputs": [
        {
          "output_type": "stream",
          "name": "stdout",
          "text": [
            "--2024-08-23 10:29:17--  https://civitai.com/models/362091?modelVersionId=412128\n",
            "Resolving civitai.com (civitai.com)... 172.67.12.143, 104.22.18.237, 104.22.19.237, ...\n",
            "Connecting to civitai.com (civitai.com)|172.67.12.143|:443... connected.\n",
            "HTTP request sent, awaiting response... 200 OK\n",
            "Length: unspecified [text/html]\n",
            "Saving to: ‘lora/362091?modelVersionId=412128’\n",
            "\n",
            "362091?modelVersion     [ <=>                ] 301.14K  --.-KB/s    in 0.03s   \n",
            "\n",
            "2024-08-23 10:29:18 (8.92 MB/s) - ‘lora/362091?modelVersionId=412128’ saved [308365]\n",
            "\n"
          ]
        }
      ]
    },
    {
      "cell_type": "code",
      "source": [
        "def load_safetensors(model, path):\n",
        "    state_dict = safetensors.torch.load_file(path)\n",
        "    model_dict = model.state_dict()\n",
        "\n",
        "    # Filter out unexpected keys\n",
        "    filtered_dict = {k: v for k, v in state_dict.items() if k in model_dict}\n",
        "\n",
        "    # Update model dict and load it\n",
        "    model_dict.update(filtered_dict)\n",
        "    model.load_state_dict(model_dict, strict=False)\n",
        "\n",
        "    print(f\"Loaded {len(filtered_dict)} / {len(model_dict)} keys\")"
      ],
      "metadata": {
        "id": "Y9hS85SB0CU3"
      },
      "execution_count": 9,
      "outputs": []
    },
    {
      "cell_type": "code",
      "source": [
        "print(controlnet)"
      ],
      "metadata": {
        "colab": {
          "base_uri": "https://localhost:8080/",
          "height": 144
        },
        "id": "PITA5MrV0D-g",
        "outputId": "81963cc5-8d69-45ef-acf9-b2bf695cda5f"
      },
      "execution_count": 10,
      "outputs": [
        {
          "output_type": "error",
          "ename": "NameError",
          "evalue": "name 'controlnet' is not defined",
          "traceback": [
            "\u001b[0;31m---------------------------------------------------------------------------\u001b[0m",
            "\u001b[0;31mNameError\u001b[0m                                 Traceback (most recent call last)",
            "\u001b[0;32m<ipython-input-10-5214b56b5a48>\u001b[0m in \u001b[0;36m<cell line: 1>\u001b[0;34m()\u001b[0m\n\u001b[0;32m----> 1\u001b[0;31m \u001b[0mprint\u001b[0m\u001b[0;34m(\u001b[0m\u001b[0mcontrolnet\u001b[0m\u001b[0;34m)\u001b[0m\u001b[0;34m\u001b[0m\u001b[0;34m\u001b[0m\u001b[0m\n\u001b[0m",
            "\u001b[0;31mNameError\u001b[0m: name 'controlnet' is not defined"
          ]
        }
      ]
    },
    {
      "cell_type": "code",
      "source": [
        "!CUDA_VISIBLE_DEVICES=0 python run_controlnext.py \\\n",
        "--pretrained_model_name_or_path=\"admruul/anything-v3.0\" \\\n",
        "--output_dir=\"examples/deepfashion_multiview\" \\\n",
        "--validation_image \"/content/ControlNeXt/ControlNeXt-SD1.5/examples/deepfashion_multiview/condition_0.jpg\" \"/content/ControlNeXt/ControlNeXt-SD1.5/examples/deepfashion_multiview/condition_1.jpg\" \\\n",
        "--validation_prompt \"fischl_\\(genshin_impact\\), fischl_\\(ein_immernachtstraum\\)_\\(genshin_impact\\)\" \\\n",
        "--negative_prompt \"PBH\" \"PBH\" \\\n",
        "--controlnet_model_name_or_path /content/ControlNeXt_Weights/ControlNeXt-SD1.5/deepfashion_multiview/unet.safetensors \\\n",
        "--lora_path /content/ControlNeXt/ControlNeXt-SD1.5/lora/genshin_124.safetensors \\\n",
        "--unet_model_name_or_path /content/ControlNeXt_Weights/ControlNeXt-SD1.5/deepfashion_multiview/unet.safetensors"
      ],
      "metadata": {
        "colab": {
          "base_uri": "https://localhost:8080/"
        },
        "id": "2Pw6nxEwRtoV",
        "outputId": "9f991289-1972-4a86-eaf6-f8e90f18f30a"
      },
      "execution_count": 8,
      "outputs": [
        {
          "output_type": "stream",
          "name": "stdout",
          "text": [
            "2024-08-23 10:37:00.955268: E external/local_xla/xla/stream_executor/cuda/cuda_fft.cc:485] Unable to register cuFFT factory: Attempting to register factory for plugin cuFFT when one has already been registered\n",
            "2024-08-23 10:37:00.978456: E external/local_xla/xla/stream_executor/cuda/cuda_dnn.cc:8454] Unable to register cuDNN factory: Attempting to register factory for plugin cuDNN when one has already been registered\n",
            "2024-08-23 10:37:00.984965: E external/local_xla/xla/stream_executor/cuda/cuda_blas.cc:1452] Unable to register cuBLAS factory: Attempting to register factory for plugin cuBLAS when one has already been registered\n",
            "2024-08-23 10:37:01.000278: I tensorflow/core/platform/cpu_feature_guard.cc:210] This TensorFlow binary is optimized to use available CPU instructions in performance-critical operations.\n",
            "To enable the following instructions: AVX2 FMA, in other operations, rebuild TensorFlow with the appropriate compiler flags.\n",
            "2024-08-23 10:37:02.244174: W tensorflow/compiler/tf2tensorrt/utils/py_utils.cc:38] TF-TRT Warning: Could not find TensorRT\n",
            "You are using a model of type clip_text_model to instantiate a model of type . This is not supported for all configurations of models and can yield errors.\n",
            "Traceback (most recent call last):\n",
            "  File \"/content/ControlNeXt/ControlNeXt-SD1.5/run_controlnext.py\", line 312, in <module>\n",
            "    load_safetensors(controlnet, args.controlnet_model_name_or_path)\n",
            "  File \"/content/ControlNeXt/ControlNeXt-SD1.5/run_controlnext.py\", line 272, in load_safetensors\n",
            "    model.load_state_dict(state_dict, strict=strict)\n",
            "  File \"/usr/local/lib/python3.10/dist-packages/torch/nn/modules/module.py\", line 2189, in load_state_dict\n",
            "    raise RuntimeError('Error(s) in loading state_dict for {}:\\n\\t{}'.format(\n",
            "RuntimeError: Error(s) in loading state_dict for ControlNetModel:\n",
            "\tMissing key(s) in state_dict: \"scale\", \"time_embedding.linear_1.weight\", \"time_embedding.linear_1.bias\", \"time_embedding.linear_2.weight\", \"time_embedding.linear_2.bias\", \"down_res.0.norm1.weight\", \"down_res.0.norm1.bias\", \"down_res.0.conv1.weight\", \"down_res.0.conv1.bias\", \"down_res.0.time_emb_proj.weight\", \"down_res.0.time_emb_proj.bias\", \"down_res.0.norm2.weight\", \"down_res.0.norm2.bias\", \"down_res.0.conv2.weight\", \"down_res.0.conv2.bias\", \"down_res.0.conv_shortcut.weight\", \"down_res.0.conv_shortcut.bias\", \"down_res.1.norm1.weight\", \"down_res.1.norm1.bias\", \"down_res.1.conv1.weight\", \"down_res.1.conv1.bias\", \"down_res.1.time_emb_proj.weight\", \"down_res.1.time_emb_proj.bias\", \"down_res.1.norm2.weight\", \"down_res.1.norm2.bias\", \"down_res.1.conv2.weight\", \"down_res.1.conv2.bias\", \"down_res.1.conv_shortcut.weight\", \"down_res.1.conv_shortcut.bias\", \"down_res.2.norm1.weight\", \"down_res.2.norm1.bias\", \"down_res.2.conv1.weight\", \"down_res.2.conv1.bias\", \"down_res.2.time_emb_proj.weight\", \"down_res.2.time_emb_proj.bias\", \"down_res.2.norm2.weight\", \"down_res.2.norm2.bias\", \"down_res.2.conv2.weight\", \"down_res.2.conv2.bias\", \"down_sample.0.conv.weight\", \"down_sample.0.conv.bias\", \"down_sample.1.conv.weight\", \"down_sample.1.conv.bias\", \"down_sample.2.conv.weight\", \"down_sample.2.conv.bias\", \"mid_convs.0.0.weight\", \"mid_convs.0.0.bias\", \"mid_convs.0.2.weight\", \"mid_convs.0.2.bias\", \"mid_convs.1.weight\", \"mid_convs.1.bias\". \n",
            "\tUnexpected key(s) in state_dict: \"up_blocks.1.attentions.0.transformer_blocks.0.attn1.to_out.0.bias\", \"up_blocks.1.attentions.0.transformer_blocks.0.attn1.to_out.0.weight\", \"up_blocks.1.attentions.0.transformer_blocks.0.attn2.to_out.0.bias\", \"up_blocks.1.attentions.0.transformer_blocks.0.attn2.to_out.0.weight\", \"up_blocks.1.attentions.1.transformer_blocks.0.attn1.to_out.0.bias\", \"up_blocks.1.attentions.1.transformer_blocks.0.attn1.to_out.0.weight\", \"up_blocks.1.attentions.1.transformer_blocks.0.attn2.to_out.0.bias\", \"up_blocks.1.attentions.1.transformer_blocks.0.attn2.to_out.0.weight\", \"up_blocks.1.attentions.2.transformer_blocks.0.attn1.to_out.0.bias\", \"up_blocks.1.attentions.2.transformer_blocks.0.attn1.to_out.0.weight\", \"up_blocks.1.attentions.2.transformer_blocks.0.attn2.to_out.0.bias\", \"up_blocks.1.attentions.2.transformer_blocks.0.attn2.to_out.0.weight\", \"up_blocks.2.attentions.0.transformer_blocks.0.attn1.to_out.0.bias\", \"up_blocks.2.attentions.0.transformer_blocks.0.attn1.to_out.0.weight\", \"up_blocks.2.attentions.0.transformer_blocks.0.attn2.to_out.0.bias\", \"up_blocks.2.attentions.0.transformer_blocks.0.attn2.to_out.0.weight\", \"up_blocks.2.attentions.1.transformer_blocks.0.attn1.to_out.0.bias\", \"up_blocks.2.attentions.1.transformer_blocks.0.attn1.to_out.0.weight\", \"up_blocks.2.attentions.1.transformer_blocks.0.attn2.to_out.0.bias\", \"up_blocks.2.attentions.1.transformer_blocks.0.attn2.to_out.0.weight\", \"up_blocks.2.attentions.2.transformer_blocks.0.attn1.to_out.0.bias\", \"up_blocks.2.attentions.2.transformer_blocks.0.attn1.to_out.0.weight\", \"up_blocks.2.attentions.2.transformer_blocks.0.attn2.to_out.0.bias\", \"up_blocks.2.attentions.2.transformer_blocks.0.attn2.to_out.0.weight\", \"up_blocks.3.attentions.0.transformer_blocks.0.attn1.to_out.0.bias\", \"up_blocks.3.attentions.0.transformer_blocks.0.attn1.to_out.0.weight\", \"up_blocks.3.attentions.0.transformer_blocks.0.attn2.to_out.0.bias\", \"up_blocks.3.attentions.0.transformer_blocks.0.attn2.to_out.0.weight\", \"up_blocks.3.attentions.1.transformer_blocks.0.attn1.to_out.0.bias\", \"up_blocks.3.attentions.1.transformer_blocks.0.attn1.to_out.0.weight\", \"up_blocks.3.attentions.1.transformer_blocks.0.attn2.to_out.0.bias\", \"up_blocks.3.attentions.1.transformer_blocks.0.attn2.to_out.0.weight\", \"up_blocks.3.attentions.2.transformer_blocks.0.attn1.to_out.0.bias\", \"up_blocks.3.attentions.2.transformer_blocks.0.attn1.to_out.0.weight\", \"up_blocks.3.attentions.2.transformer_blocks.0.attn2.to_out.0.bias\", \"up_blocks.3.attentions.2.transformer_blocks.0.attn2.to_out.0.weight\". \n"
          ]
        }
      ]
    }
  ]
}